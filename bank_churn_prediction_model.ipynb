{
 "cells": [
  {
   "cell_type": "markdown",
   "source": [
    "# set the imports "
   ],
   "metadata": {
    "collapsed": false
   },
   "id": "48f3ba7be09612d0"
  },
  {
   "cell_type": "code",
   "execution_count": 7,
   "outputs": [],
   "source": [
    "# set my imports\n",
    "# Importing the Pandas library for data manipulation and analysis.\n",
    "import pandas as pd\n",
    "\n",
    "# Importing RandomizedSearchCV for hyperparameter tuning and cross_val_score for evaluating model performance.\n",
    "from sklearn.model_selection import RandomizedSearchCV, cross_val_score\n",
    "\n",
    "# Importing the RandomForestClassifier from sklearn's ensemble module for classification tasks using Random Forest algorithm.\n",
    "from sklearn.ensemble import RandomForestClassifier\n",
    "\n",
    "# Importing XGBClassifier from XGBoost library for gradient boosting on decision trees.\n",
    "from xgboost import XGBClassifier\n",
    "\n",
    "# Importing randint and uniform from scipy.stats for generating random integers and uniform distributions for hyperparameter tuning.\n",
    "from scipy.stats import randint, uniform\n",
    "\n",
    "# Importing the custom HelperFunctions class from the lib.utilities.help_functions module for data preprocessing utilities.\n",
    "from lib.utilities.help_functions import HelperFunctions\n",
    "\n",
    "# Importing joblib for saving and loading Python objects efficiently, especially large numpy arrays.\n",
    "import joblib\n",
    "\n",
    "# Importing pickle for serializing and deserializing Python objects, commonly used for saving trained models.\n",
    "import pickle\n",
    "\n"
   ],
   "metadata": {
    "collapsed": false,
    "ExecuteTime": {
     "end_time": "2024-11-01T19:18:46.287694600Z",
     "start_time": "2024-11-01T19:18:46.168136800Z"
    }
   },
   "id": "initial_id"
  },
  {
   "cell_type": "markdown",
   "source": [
    "# load  my dataset "
   ],
   "metadata": {
    "collapsed": false
   },
   "id": "d77c733fa9a73d8b"
  },
  {
   "cell_type": "code",
   "execution_count": 8,
   "outputs": [],
   "source": [
    "data = pd.read_csv(\"datasets/train.csv\")"
   ],
   "metadata": {
    "collapsed": false,
    "ExecuteTime": {
     "end_time": "2024-11-01T19:18:52.534071900Z",
     "start_time": "2024-11-01T19:18:51.885685500Z"
    }
   },
   "id": "415cc5d5a98df763"
  },
  {
   "cell_type": "code",
   "execution_count": 9,
   "outputs": [
    {
     "data": {
      "text/plain": "   id  CustomerId         Surname  CreditScore Geography Gender   Age  Tenure  \\\n0   0    15674932  Okwudilichukwu          668    France   Male  33.0       3   \n1   1    15749177   Okwudiliolisa          627    France   Male  33.0       1   \n2   2    15694510           Hsueh          678    France   Male  40.0      10   \n3   3    15741417             Kao          581    France   Male  34.0       2   \n4   4    15766172       Chiemenam          716     Spain   Male  33.0       5   \n\n     Balance  NumOfProducts  HasCrCard  IsActiveMember  EstimatedSalary  \\\n0       0.00              2        1.0             0.0        181449.97   \n1       0.00              2        1.0             1.0         49503.50   \n2       0.00              2        1.0             0.0        184866.69   \n3  148882.54              1        1.0             1.0         84560.88   \n4       0.00              2        1.0             1.0         15068.83   \n\n   Exited  \n0       0  \n1       0  \n2       0  \n3       0  \n4       0  ",
      "text/html": "<div>\n<style scoped>\n    .dataframe tbody tr th:only-of-type {\n        vertical-align: middle;\n    }\n\n    .dataframe tbody tr th {\n        vertical-align: top;\n    }\n\n    .dataframe thead th {\n        text-align: right;\n    }\n</style>\n<table border=\"1\" class=\"dataframe\">\n  <thead>\n    <tr style=\"text-align: right;\">\n      <th></th>\n      <th>id</th>\n      <th>CustomerId</th>\n      <th>Surname</th>\n      <th>CreditScore</th>\n      <th>Geography</th>\n      <th>Gender</th>\n      <th>Age</th>\n      <th>Tenure</th>\n      <th>Balance</th>\n      <th>NumOfProducts</th>\n      <th>HasCrCard</th>\n      <th>IsActiveMember</th>\n      <th>EstimatedSalary</th>\n      <th>Exited</th>\n    </tr>\n  </thead>\n  <tbody>\n    <tr>\n      <th>0</th>\n      <td>0</td>\n      <td>15674932</td>\n      <td>Okwudilichukwu</td>\n      <td>668</td>\n      <td>France</td>\n      <td>Male</td>\n      <td>33.0</td>\n      <td>3</td>\n      <td>0.00</td>\n      <td>2</td>\n      <td>1.0</td>\n      <td>0.0</td>\n      <td>181449.97</td>\n      <td>0</td>\n    </tr>\n    <tr>\n      <th>1</th>\n      <td>1</td>\n      <td>15749177</td>\n      <td>Okwudiliolisa</td>\n      <td>627</td>\n      <td>France</td>\n      <td>Male</td>\n      <td>33.0</td>\n      <td>1</td>\n      <td>0.00</td>\n      <td>2</td>\n      <td>1.0</td>\n      <td>1.0</td>\n      <td>49503.50</td>\n      <td>0</td>\n    </tr>\n    <tr>\n      <th>2</th>\n      <td>2</td>\n      <td>15694510</td>\n      <td>Hsueh</td>\n      <td>678</td>\n      <td>France</td>\n      <td>Male</td>\n      <td>40.0</td>\n      <td>10</td>\n      <td>0.00</td>\n      <td>2</td>\n      <td>1.0</td>\n      <td>0.0</td>\n      <td>184866.69</td>\n      <td>0</td>\n    </tr>\n    <tr>\n      <th>3</th>\n      <td>3</td>\n      <td>15741417</td>\n      <td>Kao</td>\n      <td>581</td>\n      <td>France</td>\n      <td>Male</td>\n      <td>34.0</td>\n      <td>2</td>\n      <td>148882.54</td>\n      <td>1</td>\n      <td>1.0</td>\n      <td>1.0</td>\n      <td>84560.88</td>\n      <td>0</td>\n    </tr>\n    <tr>\n      <th>4</th>\n      <td>4</td>\n      <td>15766172</td>\n      <td>Chiemenam</td>\n      <td>716</td>\n      <td>Spain</td>\n      <td>Male</td>\n      <td>33.0</td>\n      <td>5</td>\n      <td>0.00</td>\n      <td>2</td>\n      <td>1.0</td>\n      <td>1.0</td>\n      <td>15068.83</td>\n      <td>0</td>\n    </tr>\n  </tbody>\n</table>\n</div>"
     },
     "execution_count": 9,
     "metadata": {},
     "output_type": "execute_result"
    }
   ],
   "source": [
    "data.head()"
   ],
   "metadata": {
    "collapsed": false,
    "ExecuteTime": {
     "end_time": "2024-11-01T19:18:54.504787900Z",
     "start_time": "2024-11-01T19:18:54.392608600Z"
    }
   },
   "id": "f493b038323bf71c"
  },
  {
   "cell_type": "markdown",
   "source": [
    "# Perform Explorative Data  Analysis  "
   ],
   "metadata": {
    "collapsed": false
   },
   "id": "67ced546ccad69e1"
  },
  {
   "cell_type": "code",
   "execution_count": 10,
   "outputs": [
    {
     "data": {
      "text/plain": "Summarize dataset:   0%|          | 0/5 [00:00<?, ?it/s]",
      "application/vnd.jupyter.widget-view+json": {
       "version_major": 2,
       "version_minor": 0,
       "model_id": "705fa17606a64a7086b3c6ca02e7278f"
      }
     },
     "metadata": {},
     "output_type": "display_data"
    },
    {
     "data": {
      "text/plain": "Generate report structure:   0%|          | 0/1 [00:00<?, ?it/s]",
      "application/vnd.jupyter.widget-view+json": {
       "version_major": 2,
       "version_minor": 0,
       "model_id": "e2e98ed2339541b1b1df41a965d3dafa"
      }
     },
     "metadata": {},
     "output_type": "display_data"
    },
    {
     "data": {
      "text/plain": "Render HTML:   0%|          | 0/1 [00:00<?, ?it/s]",
      "application/vnd.jupyter.widget-view+json": {
       "version_major": 2,
       "version_minor": 0,
       "model_id": "ffd6999adce94378a4d0c2ae83afa62d"
      }
     },
     "metadata": {},
     "output_type": "display_data"
    },
    {
     "data": {
      "text/plain": "Export report to file:   0%|          | 0/1 [00:00<?, ?it/s]",
      "application/vnd.jupyter.widget-view+json": {
       "version_major": 2,
       "version_minor": 0,
       "model_id": "87d5d3c0277b48dc8e0a5619391236af"
      }
     },
     "metadata": {},
     "output_type": "display_data"
    }
   ],
   "source": [
    "HelperFunctions().generate_profile_report(data , \"ydata_settings_folder/ydata_profiling_settings.yaml\" ,\"eda_output_folder/eda_report.html\" )\n"
   ],
   "metadata": {
    "collapsed": false,
    "ExecuteTime": {
     "end_time": "2024-11-01T19:22:18.565541100Z",
     "start_time": "2024-11-01T19:18:57.214453100Z"
    }
   },
   "id": "abe3eb1bbf807110"
  },
  {
   "cell_type": "markdown",
   "source": [
    "# PreProcess My  Dataset "
   ],
   "metadata": {
    "collapsed": false
   },
   "id": "5249a8c6f7cb0b90"
  },
  {
   "cell_type": "code",
   "execution_count": 12,
   "outputs": [],
   "source": [
    "# train_data = pd.read_csv(\"train.csv\")\n",
    "df = data.copy() \n",
    "\n",
    "preprocessed_data_set   =HelperFunctions().scale_dataframe(HelperFunctions().encode_features(df.drop(columns=['CustomerId', 'Surname']) ,global_encoding_method =\"one-hot\" ), method='minmax') \n",
    "\n",
    "\n",
    "\n"
   ],
   "metadata": {
    "collapsed": false,
    "ExecuteTime": {
     "end_time": "2024-11-01T19:25:01.705122100Z",
     "start_time": "2024-11-01T19:25:01.447711900Z"
    }
   },
   "id": "b4c6399537f1ebd1"
  },
  {
   "cell_type": "markdown",
   "source": [
    "# display my preprocessed dataset "
   ],
   "metadata": {
    "collapsed": false
   },
   "id": "4a45b6bdb271a84a"
  },
  {
   "cell_type": "code",
   "execution_count": 13,
   "outputs": [
    {
     "data": {
      "text/plain": "         id  CreditScore       Age  Tenure   Balance  NumOfProducts  \\\n0  0.000000        0.636  0.202703     0.3  0.000000       0.333333   \n1  0.000006        0.554  0.202703     0.1  0.000000       0.333333   \n2  0.000012        0.656  0.297297     1.0  0.000000       0.333333   \n3  0.000018        0.462  0.216216     0.2  0.593398       0.000000   \n4  0.000024        0.732  0.202703     0.5  0.000000       0.333333   \n\n   HasCrCard  IsActiveMember  EstimatedSalary  Exited  Geography_France  \\\n0        1.0             0.0         0.907279     0.0               1.0   \n1        1.0             1.0         0.247483     0.0               1.0   \n2        1.0             0.0         0.924364     0.0               1.0   \n3        1.0             1.0         0.422787     0.0               1.0   \n4        1.0             1.0         0.075293     0.0               0.0   \n\n   Geography_Germany  Geography_Spain  Gender_Female  Gender_Male  \n0                0.0              0.0            0.0          1.0  \n1                0.0              0.0            0.0          1.0  \n2                0.0              0.0            0.0          1.0  \n3                0.0              0.0            0.0          1.0  \n4                0.0              1.0            0.0          1.0  ",
      "text/html": "<div>\n<style scoped>\n    .dataframe tbody tr th:only-of-type {\n        vertical-align: middle;\n    }\n\n    .dataframe tbody tr th {\n        vertical-align: top;\n    }\n\n    .dataframe thead th {\n        text-align: right;\n    }\n</style>\n<table border=\"1\" class=\"dataframe\">\n  <thead>\n    <tr style=\"text-align: right;\">\n      <th></th>\n      <th>id</th>\n      <th>CreditScore</th>\n      <th>Age</th>\n      <th>Tenure</th>\n      <th>Balance</th>\n      <th>NumOfProducts</th>\n      <th>HasCrCard</th>\n      <th>IsActiveMember</th>\n      <th>EstimatedSalary</th>\n      <th>Exited</th>\n      <th>Geography_France</th>\n      <th>Geography_Germany</th>\n      <th>Geography_Spain</th>\n      <th>Gender_Female</th>\n      <th>Gender_Male</th>\n    </tr>\n  </thead>\n  <tbody>\n    <tr>\n      <th>0</th>\n      <td>0.000000</td>\n      <td>0.636</td>\n      <td>0.202703</td>\n      <td>0.3</td>\n      <td>0.000000</td>\n      <td>0.333333</td>\n      <td>1.0</td>\n      <td>0.0</td>\n      <td>0.907279</td>\n      <td>0.0</td>\n      <td>1.0</td>\n      <td>0.0</td>\n      <td>0.0</td>\n      <td>0.0</td>\n      <td>1.0</td>\n    </tr>\n    <tr>\n      <th>1</th>\n      <td>0.000006</td>\n      <td>0.554</td>\n      <td>0.202703</td>\n      <td>0.1</td>\n      <td>0.000000</td>\n      <td>0.333333</td>\n      <td>1.0</td>\n      <td>1.0</td>\n      <td>0.247483</td>\n      <td>0.0</td>\n      <td>1.0</td>\n      <td>0.0</td>\n      <td>0.0</td>\n      <td>0.0</td>\n      <td>1.0</td>\n    </tr>\n    <tr>\n      <th>2</th>\n      <td>0.000012</td>\n      <td>0.656</td>\n      <td>0.297297</td>\n      <td>1.0</td>\n      <td>0.000000</td>\n      <td>0.333333</td>\n      <td>1.0</td>\n      <td>0.0</td>\n      <td>0.924364</td>\n      <td>0.0</td>\n      <td>1.0</td>\n      <td>0.0</td>\n      <td>0.0</td>\n      <td>0.0</td>\n      <td>1.0</td>\n    </tr>\n    <tr>\n      <th>3</th>\n      <td>0.000018</td>\n      <td>0.462</td>\n      <td>0.216216</td>\n      <td>0.2</td>\n      <td>0.593398</td>\n      <td>0.000000</td>\n      <td>1.0</td>\n      <td>1.0</td>\n      <td>0.422787</td>\n      <td>0.0</td>\n      <td>1.0</td>\n      <td>0.0</td>\n      <td>0.0</td>\n      <td>0.0</td>\n      <td>1.0</td>\n    </tr>\n    <tr>\n      <th>4</th>\n      <td>0.000024</td>\n      <td>0.732</td>\n      <td>0.202703</td>\n      <td>0.5</td>\n      <td>0.000000</td>\n      <td>0.333333</td>\n      <td>1.0</td>\n      <td>1.0</td>\n      <td>0.075293</td>\n      <td>0.0</td>\n      <td>0.0</td>\n      <td>0.0</td>\n      <td>1.0</td>\n      <td>0.0</td>\n      <td>1.0</td>\n    </tr>\n  </tbody>\n</table>\n</div>"
     },
     "execution_count": 13,
     "metadata": {},
     "output_type": "execute_result"
    }
   ],
   "source": [
    "preprocessed_data_set.head()"
   ],
   "metadata": {
    "collapsed": false,
    "ExecuteTime": {
     "start_time": "2024-11-01T19:25:06.620532400Z"
    }
   },
   "id": "db06f5e352313b33"
  },
  {
   "cell_type": "markdown",
   "source": [
    "# split my dataset to train and validation "
   ],
   "metadata": {
    "collapsed": false
   },
   "id": "7029d10b630c4621"
  },
  {
   "cell_type": "code",
   "execution_count": 14,
   "outputs": [],
   "source": [
    "X_train = preprocessed_data_set.drop(columns=['Exited'])\n",
    "y_train = preprocessed_data_set['Exited']"
   ],
   "metadata": {
    "collapsed": false,
    "ExecuteTime": {
     "end_time": "2024-11-01T19:25:08.021410800Z",
     "start_time": "2024-11-01T19:25:07.949635800Z"
    }
   },
   "id": "cd8e2118975ac8"
  },
  {
   "cell_type": "markdown",
   "source": [
    "# create my  random forest and xgb boost models  and   tune  the hyperparamters"
   ],
   "metadata": {
    "collapsed": false
   },
   "id": "a553ffa336dc1d33"
  },
  {
   "cell_type": "code",
   "execution_count": 15,
   "outputs": [],
   "source": [
    "param_dist_rf = {\n",
    "    'n_estimators': randint(50, 200),\n",
    "    'max_depth': [None, 10, 20, 30, 40, 50],\n",
    "    'min_samples_split': randint(2, 20),\n",
    "}\n",
    "\n",
    "rf_model = RandomForestClassifier(random_state=42)\n",
    "\n",
    "\n",
    "rf_random = RandomizedSearchCV(rf_model, param_distributions=param_dist_rf, n_iter=10, cv=5, scoring='accuracy', random_state=42)\n",
    "rf_random.fit(X_train, y_train)\n",
    "best_rf_model = rf_random.best_estimator_"
   ],
   "metadata": {
    "collapsed": false,
    "ExecuteTime": {
     "end_time": "2024-11-01T19:51:55.687391500Z",
     "start_time": "2024-11-01T19:25:08.766681900Z"
    }
   },
   "id": "10f55e236b63d5b"
  },
  {
   "cell_type": "code",
   "execution_count": 16,
   "outputs": [],
   "source": [
    "param_dist_xgb = {\n",
    "    'n_estimators': randint(50, 200),\n",
    "    'max_depth': [3, 5, 7, 9],\n",
    "    'learning_rate': uniform(0.01, 0.2),\n",
    "}\n",
    "\n",
    "xgb_model = XGBClassifier(random_state=42)\n",
    "\n",
    "\n",
    "xgb_random = RandomizedSearchCV(xgb_model, param_distributions=param_dist_xgb, n_iter=10, cv=5, scoring='accuracy', random_state=42)\n",
    "xgb_random.fit(X_train, y_train)\n",
    "best_xgb_model = xgb_random.best_estimator_"
   ],
   "metadata": {
    "collapsed": false,
    "ExecuteTime": {
     "end_time": "2024-11-01T19:52:45.770129700Z",
     "start_time": "2024-11-01T19:51:55.693396100Z"
    }
   },
   "id": "f75d4484a1eb76ea"
  },
  {
   "cell_type": "code",
   "execution_count": 17,
   "outputs": [
    {
     "name": "stdout",
     "output_type": "stream",
     "text": [
      "RandomForest - Accuracy: 0.8487218718738727 (Std: 0.019076120284831244)\n",
      "XGBoost - Accuracy: 0.8632221172234915 (Std: 0.001616672491019577)\n"
     ]
    }
   ],
   "source": [
    "models = [\n",
    "    ('RandomForest', best_rf_model),\n",
    "    ('XGBoost', best_xgb_model)\n",
    "]\n",
    "\n",
    "for name, model in models:\n",
    "    scores = cross_val_score(model, X_train, y_train, cv=5, scoring='accuracy')\n",
    "    print(f'{name} - Accuracy: {scores.mean()} (Std: {scores.std()})')"
   ],
   "metadata": {
    "collapsed": false,
    "ExecuteTime": {
     "end_time": "2024-11-01T19:55:42.659642100Z",
     "start_time": "2024-11-01T19:52:45.776464900Z"
    }
   },
   "id": "4253a52cf4c74a5b"
  },
  {
   "cell_type": "markdown",
   "source": [
    "# save the best Model to use it later for my Bank chrun predicton App  "
   ],
   "metadata": {
    "collapsed": false
   },
   "id": "462166fcb2fbb302"
  },
  {
   "cell_type": "code",
   "execution_count": 51,
   "outputs": [],
   "source": [
    "best_model = best_xgb_model  # Access the classifier part of the pipeline\n",
    "\n",
    "best_model.fit(X_train, y_train)\n",
    "\n",
    "\n",
    "# Save the trained model using joblib\n",
    "joblib.dump(best_model, 'trained_models/trained_model.joblib')\n",
    "\n",
    "\n",
    "# Saving the model\n",
    "with open('trained_models/trained_model.pkl', 'wb') as f:\n",
    "    pickle.dump(best_model, f)\n"
   ],
   "metadata": {
    "collapsed": false,
    "ExecuteTime": {
     "end_time": "2024-11-03T10:29:47.554220100Z",
     "start_time": "2024-11-03T10:29:47.144982500Z"
    }
   },
   "id": "9676472d77a875cf"
  },
  {
   "cell_type": "markdown",
   "source": [
    "# import my test dataset and perform prediction on it using the trained model "
   ],
   "metadata": {
    "collapsed": false
   },
   "id": "634c821b571d417e"
  },
  {
   "cell_type": "code",
   "execution_count": 64,
   "outputs": [],
   "source": [
    "test_dataset = pd.read_csv(\"datasets/test.csv\")"
   ],
   "metadata": {
    "collapsed": false,
    "ExecuteTime": {
     "end_time": "2024-11-03T10:37:53.557264Z",
     "start_time": "2024-11-03T10:37:53.414960200Z"
    }
   },
   "id": "bf1df9ba77532df0"
  },
  {
   "cell_type": "code",
   "execution_count": 85,
   "outputs": [
    {
     "data": {
      "text/plain": "id                    165034\nCustomerId          15773898\nSurname             Lucchese\nCreditScore              586\nGeography             France\nGender                Female\nAge                     23.0\nTenure                     2\nBalance                  0.0\nNumOfProducts              2\nHasCrCard                0.0\nIsActiveMember           1.0\nEstimatedSalary    160976.75\nName: 0, dtype: object"
     },
     "execution_count": 85,
     "metadata": {},
     "output_type": "execute_result"
    }
   ],
   "source": [
    "test_dataset.head().iloc[0 , : ]\n"
   ],
   "metadata": {
    "collapsed": false,
    "ExecuteTime": {
     "end_time": "2024-11-03T11:06:50.952638200Z",
     "start_time": "2024-11-03T11:06:50.926526200Z"
    }
   },
   "id": "f25cf045ccb495b4"
  },
  {
   "cell_type": "code",
   "execution_count": null,
   "outputs": [],
   "source": [
    "costumer_id = test_dataset[\"id\"]"
   ],
   "metadata": {
    "collapsed": false
   },
   "id": "4afc20cdb7aad0a4"
  },
  {
   "cell_type": "code",
   "execution_count": 91,
   "outputs": [
    {
     "name": "stdout",
     "output_type": "stream",
     "text": [
      "    id  CreditScore       Age  Tenure  Balance  NumOfProducts  HasCrCard  \\\n",
      "0  0.0        0.472  0.067568     0.2      0.0       0.333333        0.0   \n",
      "\n",
      "   IsActiveMember  EstimatedSalary  Geography_France  Geography_Germany  \\\n",
      "0             1.0         0.804903               1.0                0.0   \n",
      "\n",
      "   Geography_Spain  Gender_Female  Gender_Male  \n",
      "0              0.0            1.0          0.0  \n"
     ]
    }
   ],
   "source": [
    "# Prepare the input data (this keeps it as a DataFrame)\n",
    "processed_input = HelperFunctions().scale_dataframe(\n",
    "    HelperFunctions().encode_features(\n",
    "        test_dataset.copy().drop(columns=[\"CustomerId\", \"Surname\"]),\n",
    "        global_encoding_method=\"one-hot\"\n",
    "    ),\n",
    "    method='minmax'\n",
    ")\n",
    "\n",
    "print(processed_input.iloc[[0]])\n",
    "# Select the first row while keeping it as a DataFrame\n",
    "prediction_prob = best_model.predict_proba(processed_input.iloc[[0]])  # Use [[0]] to keep it as DataFrame\n"
   ],
   "metadata": {
    "collapsed": false,
    "ExecuteTime": {
     "end_time": "2024-11-03T11:14:57.676463800Z",
     "start_time": "2024-11-03T11:14:57.539695800Z"
    }
   },
   "id": "cb55a195f744a80d"
  },
  {
   "cell_type": "code",
   "execution_count": 92,
   "outputs": [
    {
     "data": {
      "text/plain": "array([[0.9746609 , 0.02533911]], dtype=float32)"
     },
     "execution_count": 92,
     "metadata": {},
     "output_type": "execute_result"
    }
   ],
   "source": [
    "prediction_prob"
   ],
   "metadata": {
    "collapsed": false,
    "ExecuteTime": {
     "end_time": "2024-11-03T11:16:18.303493500Z",
     "start_time": "2024-11-03T11:16:18.280993400Z"
    }
   },
   "id": "ad456e5b8cd9736"
  },
  {
   "cell_type": "code",
   "execution_count": 88,
   "outputs": [
    {
     "data": {
      "text/plain": "id                   0.000000\nCreditScore          0.472000\nAge                  0.067568\nTenure               0.200000\nBalance              0.000000\nNumOfProducts        0.333333\nHasCrCard            0.000000\nIsActiveMember       1.000000\nEstimatedSalary      0.804903\nGeography_France     1.000000\nGeography_Germany    0.000000\nGeography_Spain      0.000000\nGender_Female        1.000000\nGender_Male          0.000000\nName: 0, dtype: float64"
     },
     "execution_count": 88,
     "metadata": {},
     "output_type": "execute_result"
    }
   ],
   "source": [
    "HelperFunctions().scale_dataframe(HelperFunctions().encode_features(test_dataset.copy().drop(columns=[\"CustomerId\",\"Surname\"]) ,global_encoding_method =\"one-hot\" ), method='minmax').iloc[0 , : ]"
   ],
   "metadata": {
    "collapsed": false,
    "ExecuteTime": {
     "end_time": "2024-11-03T11:08:07.384836700Z",
     "start_time": "2024-11-03T11:08:07.264613100Z"
    }
   },
   "id": "ba37b6a323a2443f"
  },
  {
   "cell_type": "code",
   "execution_count": 74,
   "outputs": [
    {
     "data": {
      "text/plain": "array([0.02533911, 0.7787184 , 0.0429614 , ..., 0.0277605 , 0.14928049,\n       0.2317597 ], dtype=float32)"
     },
     "execution_count": 74,
     "metadata": {},
     "output_type": "execute_result"
    }
   ],
   "source": [
    "prediction_prob[: , 1]"
   ],
   "metadata": {
    "collapsed": false,
    "ExecuteTime": {
     "end_time": "2024-11-03T10:43:04.015342400Z",
     "start_time": "2024-11-03T10:43:03.984162300Z"
    }
   },
   "id": "95512dadeef374eb"
  },
  {
   "cell_type": "code",
   "execution_count": 75,
   "outputs": [],
   "source": [
    "test_result_df = pd.DataFrame({'id': costumer_id, 'Exited': prediction_prob[: , 1]})\n"
   ],
   "metadata": {
    "collapsed": false,
    "ExecuteTime": {
     "end_time": "2024-11-03T10:43:13.529331100Z",
     "start_time": "2024-11-03T10:43:13.507977200Z"
    }
   },
   "id": "6258f02450c8d802"
  },
  {
   "cell_type": "code",
   "execution_count": 77,
   "outputs": [
    {
     "data": {
      "text/plain": "            id    Exited\n0       165034  0.025339\n1       165035  0.778718\n2       165036  0.042961\n3       165037  0.280265\n4       165038  0.340417\n...        ...       ...\n110018  275052  0.053609\n110019  275053  0.103147\n110020  275054  0.027760\n110021  275055  0.149280\n110022  275056  0.231760\n\n[110023 rows x 2 columns]",
      "text/html": "<div>\n<style scoped>\n    .dataframe tbody tr th:only-of-type {\n        vertical-align: middle;\n    }\n\n    .dataframe tbody tr th {\n        vertical-align: top;\n    }\n\n    .dataframe thead th {\n        text-align: right;\n    }\n</style>\n<table border=\"1\" class=\"dataframe\">\n  <thead>\n    <tr style=\"text-align: right;\">\n      <th></th>\n      <th>id</th>\n      <th>Exited</th>\n    </tr>\n  </thead>\n  <tbody>\n    <tr>\n      <th>0</th>\n      <td>165034</td>\n      <td>0.025339</td>\n    </tr>\n    <tr>\n      <th>1</th>\n      <td>165035</td>\n      <td>0.778718</td>\n    </tr>\n    <tr>\n      <th>2</th>\n      <td>165036</td>\n      <td>0.042961</td>\n    </tr>\n    <tr>\n      <th>3</th>\n      <td>165037</td>\n      <td>0.280265</td>\n    </tr>\n    <tr>\n      <th>4</th>\n      <td>165038</td>\n      <td>0.340417</td>\n    </tr>\n    <tr>\n      <th>...</th>\n      <td>...</td>\n      <td>...</td>\n    </tr>\n    <tr>\n      <th>110018</th>\n      <td>275052</td>\n      <td>0.053609</td>\n    </tr>\n    <tr>\n      <th>110019</th>\n      <td>275053</td>\n      <td>0.103147</td>\n    </tr>\n    <tr>\n      <th>110020</th>\n      <td>275054</td>\n      <td>0.027760</td>\n    </tr>\n    <tr>\n      <th>110021</th>\n      <td>275055</td>\n      <td>0.149280</td>\n    </tr>\n    <tr>\n      <th>110022</th>\n      <td>275056</td>\n      <td>0.231760</td>\n    </tr>\n  </tbody>\n</table>\n<p>110023 rows × 2 columns</p>\n</div>"
     },
     "execution_count": 77,
     "metadata": {},
     "output_type": "execute_result"
    }
   ],
   "source": [
    "test_result_df"
   ],
   "metadata": {
    "collapsed": false,
    "ExecuteTime": {
     "end_time": "2024-11-03T10:43:43.575559200Z",
     "start_time": "2024-11-03T10:43:43.514703200Z"
    }
   },
   "id": "98679e143dd472e9"
  }
 ],
 "metadata": {
  "kernelspec": {
   "display_name": "Python 3",
   "language": "python",
   "name": "python3"
  },
  "language_info": {
   "codemirror_mode": {
    "name": "ipython",
    "version": 2
   },
   "file_extension": ".py",
   "mimetype": "text/x-python",
   "name": "python",
   "nbconvert_exporter": "python",
   "pygments_lexer": "ipython2",
   "version": "2.7.6"
  }
 },
 "nbformat": 4,
 "nbformat_minor": 5
}
